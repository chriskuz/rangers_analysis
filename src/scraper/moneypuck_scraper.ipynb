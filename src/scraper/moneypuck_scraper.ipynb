{
 "cells": [
  {
   "cell_type": "markdown",
   "metadata": {},
   "source": [
    "# Imports"
   ]
  },
  {
   "cell_type": "code",
   "execution_count": 16,
   "metadata": {},
   "outputs": [],
   "source": [
    "# from beautifulsoup4 import BeautifulSoup #how we clean \n",
    "# from bs4 import BeautifulSoup as bs\n",
    "import os\n",
    "\n",
    "import requests as req #how we access the web page\n",
    "import pandas as pd\n",
    "import json\n",
    "\n",
    "from io import StringIO\n",
    "\n",
    "# print(all_game_level_data.status_code)\n",
    "# print(type(all_game_level_data))\n",
    "# print(all_game_level_data)\n",
    "# soup = bs(all_game_data.text, 'html.parser') #this may not be necessary"
   ]
  },
  {
   "cell_type": "markdown",
   "metadata": {},
   "source": [
    "# Pull Data"
   ]
  },
  {
   "cell_type": "code",
   "execution_count": 20,
   "metadata": {},
   "outputs": [
    {
     "name": "stdout",
     "output_type": "stream",
     "text": [
      "['ALL GAMES', 'ALL PLAYERS', 'ALL SHOTS']\n"
     ]
    }
   ],
   "source": [
    "f = open(\"../dictionaries/url_dict.json\")\n",
    "url_dict  = json.load(f)\n",
    "\n",
    "test = list(url_dict.keys())\n",
    "\n",
    "print(test)"
   ]
  },
  {
   "cell_type": "code",
   "execution_count": 6,
   "metadata": {},
   "outputs": [],
   "source": [
    "df = req.get(url_dict[\"ALL PLAYERS\"])\n",
    "# soup = bs(df.text, 'html.parser') #this may not be necessary"
   ]
  },
  {
   "cell_type": "code",
   "execution_count": 7,
   "metadata": {},
   "outputs": [],
   "source": [
    "df = (pd.read_csv(StringIO(df.text)))"
   ]
  },
  {
   "cell_type": "code",
   "execution_count": null,
   "metadata": {},
   "outputs": [],
   "source": []
  },
  {
   "cell_type": "markdown",
   "metadata": {},
   "source": [
    "# EDA"
   ]
  },
  {
   "cell_type": "markdown",
   "metadata": {},
   "source": [
    "## Explore All Columns"
   ]
  },
  {
   "cell_type": "code",
   "execution_count": 8,
   "metadata": {},
   "outputs": [
    {
     "name": "stdout",
     "output_type": "stream",
     "text": [
      "<class 'pandas.core.frame.DataFrame'>\n",
      "RangeIndex: 3154 entries, 0 to 3153\n",
      "Data columns (total 11 columns):\n",
      " #   Column           Non-Null Count  Dtype  \n",
      "---  ------           --------------  -----  \n",
      " 0   playerId         3154 non-null   int64  \n",
      " 1   name             3154 non-null   object \n",
      " 2   position         3154 non-null   object \n",
      " 3   team             3154 non-null   object \n",
      " 4   birthDate        2976 non-null   object \n",
      " 5   weight           2976 non-null   float64\n",
      " 6   height           2976 non-null   object \n",
      " 7   nationality      2976 non-null   object \n",
      " 8   shootsCatches    2976 non-null   object \n",
      " 9   primaryNumber    2976 non-null   float64\n",
      " 10  primaryPosition  2976 non-null   object \n",
      "dtypes: float64(2), int64(1), object(8)\n",
      "memory usage: 271.2+ KB\n"
     ]
    }
   ],
   "source": [
    "df.info()"
   ]
  },
  {
   "cell_type": "code",
   "execution_count": 9,
   "metadata": {},
   "outputs": [
    {
     "data": {
      "text/plain": [
       "playerId             int64\n",
       "name                object\n",
       "position            object\n",
       "team                object\n",
       "birthDate           object\n",
       "weight             float64\n",
       "height              object\n",
       "nationality         object\n",
       "shootsCatches       object\n",
       "primaryNumber      float64\n",
       "primaryPosition     object\n",
       "dtype: object"
      ]
     },
     "execution_count": 9,
     "metadata": {},
     "output_type": "execute_result"
    }
   ],
   "source": [
    "df.dtypes"
   ]
  },
  {
   "cell_type": "code",
   "execution_count": 10,
   "metadata": {},
   "outputs": [
    {
     "data": {
      "text/plain": [
       "34694"
      ]
     },
     "execution_count": 10,
     "metadata": {},
     "output_type": "execute_result"
    }
   ],
   "source": [
    "df.size"
   ]
  },
  {
   "cell_type": "code",
   "execution_count": 11,
   "metadata": {},
   "outputs": [
    {
     "data": {
      "text/plain": [
       "['birthDate',\n",
       " 'height',\n",
       " 'name',\n",
       " 'nationality',\n",
       " 'playerId',\n",
       " 'position',\n",
       " 'primaryNumber',\n",
       " 'primaryPosition',\n",
       " 'shootsCatches',\n",
       " 'team',\n",
       " 'weight']"
      ]
     },
     "execution_count": 11,
     "metadata": {},
     "output_type": "execute_result"
    }
   ],
   "source": [
    "sorted(df.columns)"
   ]
  },
  {
   "cell_type": "code",
   "execution_count": 12,
   "metadata": {},
   "outputs": [
    {
     "data": {
      "text/html": [
       "<div>\n",
       "<style scoped>\n",
       "    .dataframe tbody tr th:only-of-type {\n",
       "        vertical-align: middle;\n",
       "    }\n",
       "\n",
       "    .dataframe tbody tr th {\n",
       "        vertical-align: top;\n",
       "    }\n",
       "\n",
       "    .dataframe thead th {\n",
       "        text-align: right;\n",
       "    }\n",
       "</style>\n",
       "<table border=\"1\" class=\"dataframe\">\n",
       "  <thead>\n",
       "    <tr style=\"text-align: right;\">\n",
       "      <th></th>\n",
       "      <th>playerId</th>\n",
       "      <th>name</th>\n",
       "      <th>position</th>\n",
       "      <th>team</th>\n",
       "      <th>birthDate</th>\n",
       "      <th>weight</th>\n",
       "      <th>height</th>\n",
       "      <th>nationality</th>\n",
       "      <th>shootsCatches</th>\n",
       "      <th>primaryNumber</th>\n",
       "      <th>primaryPosition</th>\n",
       "    </tr>\n",
       "  </thead>\n",
       "  <tbody>\n",
       "    <tr>\n",
       "      <th>0</th>\n",
       "      <td>8478421</td>\n",
       "      <td>A.J. Greer</td>\n",
       "      <td>L</td>\n",
       "      <td>CGY</td>\n",
       "      <td>1996-12-14</td>\n",
       "      <td>210.0</td>\n",
       "      <td>6' 3\"</td>\n",
       "      <td>CAN</td>\n",
       "      <td>L</td>\n",
       "      <td>24.0</td>\n",
       "      <td>L</td>\n",
       "    </tr>\n",
       "    <tr>\n",
       "      <th>1</th>\n",
       "      <td>8477180</td>\n",
       "      <td>Aaron Dell</td>\n",
       "      <td>G</td>\n",
       "      <td>SJS</td>\n",
       "      <td>1989-05-04</td>\n",
       "      <td>205.0</td>\n",
       "      <td>6' 0\"</td>\n",
       "      <td>CAN</td>\n",
       "      <td>L</td>\n",
       "      <td>30.0</td>\n",
       "      <td>G</td>\n",
       "    </tr>\n",
       "    <tr>\n",
       "      <th>2</th>\n",
       "      <td>8465992</td>\n",
       "      <td>Aaron Downey</td>\n",
       "      <td>R</td>\n",
       "      <td>DET</td>\n",
       "      <td>1974-08-27</td>\n",
       "      <td>215.0</td>\n",
       "      <td>6' 1\"</td>\n",
       "      <td>CAN</td>\n",
       "      <td>R</td>\n",
       "      <td>44.0</td>\n",
       "      <td>R</td>\n",
       "    </tr>\n",
       "    <tr>\n",
       "      <th>3</th>\n",
       "      <td>8477932</td>\n",
       "      <td>Aaron Ekblad</td>\n",
       "      <td>D</td>\n",
       "      <td>FLA</td>\n",
       "      <td>1996-02-07</td>\n",
       "      <td>220.0</td>\n",
       "      <td>6' 4\"</td>\n",
       "      <td>CAN</td>\n",
       "      <td>R</td>\n",
       "      <td>5.0</td>\n",
       "      <td>D</td>\n",
       "    </tr>\n",
       "    <tr>\n",
       "      <th>4</th>\n",
       "      <td>8471451</td>\n",
       "      <td>Aaron Gagnon</td>\n",
       "      <td>C</td>\n",
       "      <td>WPG</td>\n",
       "      <td>1986-04-24</td>\n",
       "      <td>186.0</td>\n",
       "      <td>5' 11\"</td>\n",
       "      <td>CAN</td>\n",
       "      <td>R</td>\n",
       "      <td>21.0</td>\n",
       "      <td>C</td>\n",
       "    </tr>\n",
       "  </tbody>\n",
       "</table>\n",
       "</div>"
      ],
      "text/plain": [
       "   playerId          name position team   birthDate  weight  height  \\\n",
       "0   8478421    A.J. Greer        L  CGY  1996-12-14   210.0   6' 3\"   \n",
       "1   8477180    Aaron Dell        G  SJS  1989-05-04   205.0   6' 0\"   \n",
       "2   8465992  Aaron Downey        R  DET  1974-08-27   215.0   6' 1\"   \n",
       "3   8477932  Aaron Ekblad        D  FLA  1996-02-07   220.0   6' 4\"   \n",
       "4   8471451  Aaron Gagnon        C  WPG  1986-04-24   186.0  5' 11\"   \n",
       "\n",
       "  nationality shootsCatches  primaryNumber primaryPosition  \n",
       "0         CAN             L           24.0               L  \n",
       "1         CAN             L           30.0               G  \n",
       "2         CAN             R           44.0               R  \n",
       "3         CAN             R            5.0               D  \n",
       "4         CAN             R           21.0               C  "
      ]
     },
     "execution_count": 12,
     "metadata": {},
     "output_type": "execute_result"
    }
   ],
   "source": [
    "df.head()"
   ]
  },
  {
   "cell_type": "code",
   "execution_count": 13,
   "metadata": {},
   "outputs": [
    {
     "data": {
      "text/html": [
       "<div>\n",
       "<style scoped>\n",
       "    .dataframe tbody tr th:only-of-type {\n",
       "        vertical-align: middle;\n",
       "    }\n",
       "\n",
       "    .dataframe tbody tr th {\n",
       "        vertical-align: top;\n",
       "    }\n",
       "\n",
       "    .dataframe thead th {\n",
       "        text-align: right;\n",
       "    }\n",
       "</style>\n",
       "<table border=\"1\" class=\"dataframe\">\n",
       "  <thead>\n",
       "    <tr style=\"text-align: right;\">\n",
       "      <th></th>\n",
       "      <th>playerId</th>\n",
       "      <th>name</th>\n",
       "      <th>position</th>\n",
       "      <th>team</th>\n",
       "      <th>birthDate</th>\n",
       "      <th>weight</th>\n",
       "      <th>height</th>\n",
       "      <th>nationality</th>\n",
       "      <th>shootsCatches</th>\n",
       "      <th>primaryNumber</th>\n",
       "      <th>primaryPosition</th>\n",
       "    </tr>\n",
       "  </thead>\n",
       "  <tbody>\n",
       "    <tr>\n",
       "      <th>3149</th>\n",
       "      <td>8475876</td>\n",
       "      <td>Zane McIntyre</td>\n",
       "      <td>G</td>\n",
       "      <td>BOS</td>\n",
       "      <td>1992-08-20</td>\n",
       "      <td>206.0</td>\n",
       "      <td>6' 2\"</td>\n",
       "      <td>USA</td>\n",
       "      <td>L</td>\n",
       "      <td>31.0</td>\n",
       "      <td>G</td>\n",
       "    </tr>\n",
       "    <tr>\n",
       "      <th>3150</th>\n",
       "      <td>8469760</td>\n",
       "      <td>Zbynek Michalek</td>\n",
       "      <td>D</td>\n",
       "      <td>ARI</td>\n",
       "      <td>1982-12-23</td>\n",
       "      <td>210.0</td>\n",
       "      <td>6' 2\"</td>\n",
       "      <td>CZE</td>\n",
       "      <td>R</td>\n",
       "      <td>4.0</td>\n",
       "      <td>D</td>\n",
       "    </tr>\n",
       "    <tr>\n",
       "      <th>3151</th>\n",
       "      <td>8465009</td>\n",
       "      <td>Zdeno Chara</td>\n",
       "      <td>D</td>\n",
       "      <td>NYI</td>\n",
       "      <td>1977-03-18</td>\n",
       "      <td>250.0</td>\n",
       "      <td>6' 9\"</td>\n",
       "      <td>SVK</td>\n",
       "      <td>L</td>\n",
       "      <td>33.0</td>\n",
       "      <td>D</td>\n",
       "    </tr>\n",
       "    <tr>\n",
       "      <th>3152</th>\n",
       "      <td>8476878</td>\n",
       "      <td>Zemgus Girgensons</td>\n",
       "      <td>L</td>\n",
       "      <td>BUF</td>\n",
       "      <td>1994-01-05</td>\n",
       "      <td>211.0</td>\n",
       "      <td>6' 2\"</td>\n",
       "      <td>LVA</td>\n",
       "      <td>L</td>\n",
       "      <td>28.0</td>\n",
       "      <td>C</td>\n",
       "    </tr>\n",
       "    <tr>\n",
       "      <th>3153</th>\n",
       "      <td>8469820</td>\n",
       "      <td>Zenon Konopka</td>\n",
       "      <td>C</td>\n",
       "      <td>BUF</td>\n",
       "      <td>1981-01-02</td>\n",
       "      <td>213.0</td>\n",
       "      <td>6' 0\"</td>\n",
       "      <td>CAN</td>\n",
       "      <td>L</td>\n",
       "      <td>24.0</td>\n",
       "      <td>C</td>\n",
       "    </tr>\n",
       "  </tbody>\n",
       "</table>\n",
       "</div>"
      ],
      "text/plain": [
       "      playerId               name position team   birthDate  weight height  \\\n",
       "3149   8475876      Zane McIntyre        G  BOS  1992-08-20   206.0  6' 2\"   \n",
       "3150   8469760    Zbynek Michalek        D  ARI  1982-12-23   210.0  6' 2\"   \n",
       "3151   8465009        Zdeno Chara        D  NYI  1977-03-18   250.0  6' 9\"   \n",
       "3152   8476878  Zemgus Girgensons        L  BUF  1994-01-05   211.0  6' 2\"   \n",
       "3153   8469820      Zenon Konopka        C  BUF  1981-01-02   213.0  6' 0\"   \n",
       "\n",
       "     nationality shootsCatches  primaryNumber primaryPosition  \n",
       "3149         USA             L           31.0               G  \n",
       "3150         CZE             R            4.0               D  \n",
       "3151         SVK             L           33.0               D  \n",
       "3152         LVA             L           28.0               C  \n",
       "3153         CAN             L           24.0               C  "
      ]
     },
     "execution_count": 13,
     "metadata": {},
     "output_type": "execute_result"
    }
   ],
   "source": [
    "df.tail()"
   ]
  },
  {
   "cell_type": "code",
   "execution_count": 14,
   "metadata": {},
   "outputs": [
    {
     "data": {
      "text/html": [
       "<div>\n",
       "<style scoped>\n",
       "    .dataframe tbody tr th:only-of-type {\n",
       "        vertical-align: middle;\n",
       "    }\n",
       "\n",
       "    .dataframe tbody tr th {\n",
       "        vertical-align: top;\n",
       "    }\n",
       "\n",
       "    .dataframe thead th {\n",
       "        text-align: right;\n",
       "    }\n",
       "</style>\n",
       "<table border=\"1\" class=\"dataframe\">\n",
       "  <thead>\n",
       "    <tr style=\"text-align: right;\">\n",
       "      <th></th>\n",
       "      <th>playerId</th>\n",
       "      <th>name</th>\n",
       "      <th>position</th>\n",
       "      <th>team</th>\n",
       "      <th>birthDate</th>\n",
       "      <th>weight</th>\n",
       "      <th>height</th>\n",
       "      <th>nationality</th>\n",
       "      <th>shootsCatches</th>\n",
       "      <th>primaryNumber</th>\n",
       "      <th>primaryPosition</th>\n",
       "    </tr>\n",
       "  </thead>\n",
       "  <tbody>\n",
       "    <tr>\n",
       "      <th>0</th>\n",
       "      <td>8478421</td>\n",
       "      <td>A.J. Greer</td>\n",
       "      <td>L</td>\n",
       "      <td>CGY</td>\n",
       "      <td>1996-12-14</td>\n",
       "      <td>210.0</td>\n",
       "      <td>6' 3\"</td>\n",
       "      <td>CAN</td>\n",
       "      <td>L</td>\n",
       "      <td>24.0</td>\n",
       "      <td>L</td>\n",
       "    </tr>\n",
       "    <tr>\n",
       "      <th>1</th>\n",
       "      <td>8477180</td>\n",
       "      <td>Aaron Dell</td>\n",
       "      <td>G</td>\n",
       "      <td>SJS</td>\n",
       "      <td>1989-05-04</td>\n",
       "      <td>205.0</td>\n",
       "      <td>6' 0\"</td>\n",
       "      <td>CAN</td>\n",
       "      <td>L</td>\n",
       "      <td>30.0</td>\n",
       "      <td>G</td>\n",
       "    </tr>\n",
       "    <tr>\n",
       "      <th>2</th>\n",
       "      <td>8465992</td>\n",
       "      <td>Aaron Downey</td>\n",
       "      <td>R</td>\n",
       "      <td>DET</td>\n",
       "      <td>1974-08-27</td>\n",
       "      <td>215.0</td>\n",
       "      <td>6' 1\"</td>\n",
       "      <td>CAN</td>\n",
       "      <td>R</td>\n",
       "      <td>44.0</td>\n",
       "      <td>R</td>\n",
       "    </tr>\n",
       "    <tr>\n",
       "      <th>3</th>\n",
       "      <td>8477932</td>\n",
       "      <td>Aaron Ekblad</td>\n",
       "      <td>D</td>\n",
       "      <td>FLA</td>\n",
       "      <td>1996-02-07</td>\n",
       "      <td>220.0</td>\n",
       "      <td>6' 4\"</td>\n",
       "      <td>CAN</td>\n",
       "      <td>R</td>\n",
       "      <td>5.0</td>\n",
       "      <td>D</td>\n",
       "    </tr>\n",
       "    <tr>\n",
       "      <th>4</th>\n",
       "      <td>8471451</td>\n",
       "      <td>Aaron Gagnon</td>\n",
       "      <td>C</td>\n",
       "      <td>WPG</td>\n",
       "      <td>1986-04-24</td>\n",
       "      <td>186.0</td>\n",
       "      <td>5' 11\"</td>\n",
       "      <td>CAN</td>\n",
       "      <td>R</td>\n",
       "      <td>21.0</td>\n",
       "      <td>C</td>\n",
       "    </tr>\n",
       "    <tr>\n",
       "      <th>...</th>\n",
       "      <td>...</td>\n",
       "      <td>...</td>\n",
       "      <td>...</td>\n",
       "      <td>...</td>\n",
       "      <td>...</td>\n",
       "      <td>...</td>\n",
       "      <td>...</td>\n",
       "      <td>...</td>\n",
       "      <td>...</td>\n",
       "      <td>...</td>\n",
       "      <td>...</td>\n",
       "    </tr>\n",
       "    <tr>\n",
       "      <th>3149</th>\n",
       "      <td>8475876</td>\n",
       "      <td>Zane McIntyre</td>\n",
       "      <td>G</td>\n",
       "      <td>BOS</td>\n",
       "      <td>1992-08-20</td>\n",
       "      <td>206.0</td>\n",
       "      <td>6' 2\"</td>\n",
       "      <td>USA</td>\n",
       "      <td>L</td>\n",
       "      <td>31.0</td>\n",
       "      <td>G</td>\n",
       "    </tr>\n",
       "    <tr>\n",
       "      <th>3150</th>\n",
       "      <td>8469760</td>\n",
       "      <td>Zbynek Michalek</td>\n",
       "      <td>D</td>\n",
       "      <td>ARI</td>\n",
       "      <td>1982-12-23</td>\n",
       "      <td>210.0</td>\n",
       "      <td>6' 2\"</td>\n",
       "      <td>CZE</td>\n",
       "      <td>R</td>\n",
       "      <td>4.0</td>\n",
       "      <td>D</td>\n",
       "    </tr>\n",
       "    <tr>\n",
       "      <th>3151</th>\n",
       "      <td>8465009</td>\n",
       "      <td>Zdeno Chara</td>\n",
       "      <td>D</td>\n",
       "      <td>NYI</td>\n",
       "      <td>1977-03-18</td>\n",
       "      <td>250.0</td>\n",
       "      <td>6' 9\"</td>\n",
       "      <td>SVK</td>\n",
       "      <td>L</td>\n",
       "      <td>33.0</td>\n",
       "      <td>D</td>\n",
       "    </tr>\n",
       "    <tr>\n",
       "      <th>3152</th>\n",
       "      <td>8476878</td>\n",
       "      <td>Zemgus Girgensons</td>\n",
       "      <td>L</td>\n",
       "      <td>BUF</td>\n",
       "      <td>1994-01-05</td>\n",
       "      <td>211.0</td>\n",
       "      <td>6' 2\"</td>\n",
       "      <td>LVA</td>\n",
       "      <td>L</td>\n",
       "      <td>28.0</td>\n",
       "      <td>C</td>\n",
       "    </tr>\n",
       "    <tr>\n",
       "      <th>3153</th>\n",
       "      <td>8469820</td>\n",
       "      <td>Zenon Konopka</td>\n",
       "      <td>C</td>\n",
       "      <td>BUF</td>\n",
       "      <td>1981-01-02</td>\n",
       "      <td>213.0</td>\n",
       "      <td>6' 0\"</td>\n",
       "      <td>CAN</td>\n",
       "      <td>L</td>\n",
       "      <td>24.0</td>\n",
       "      <td>C</td>\n",
       "    </tr>\n",
       "  </tbody>\n",
       "</table>\n",
       "<p>3154 rows × 11 columns</p>\n",
       "</div>"
      ],
      "text/plain": [
       "      playerId               name position team   birthDate  weight  height  \\\n",
       "0      8478421         A.J. Greer        L  CGY  1996-12-14   210.0   6' 3\"   \n",
       "1      8477180         Aaron Dell        G  SJS  1989-05-04   205.0   6' 0\"   \n",
       "2      8465992       Aaron Downey        R  DET  1974-08-27   215.0   6' 1\"   \n",
       "3      8477932       Aaron Ekblad        D  FLA  1996-02-07   220.0   6' 4\"   \n",
       "4      8471451       Aaron Gagnon        C  WPG  1986-04-24   186.0  5' 11\"   \n",
       "...        ...                ...      ...  ...         ...     ...     ...   \n",
       "3149   8475876      Zane McIntyre        G  BOS  1992-08-20   206.0   6' 2\"   \n",
       "3150   8469760    Zbynek Michalek        D  ARI  1982-12-23   210.0   6' 2\"   \n",
       "3151   8465009        Zdeno Chara        D  NYI  1977-03-18   250.0   6' 9\"   \n",
       "3152   8476878  Zemgus Girgensons        L  BUF  1994-01-05   211.0   6' 2\"   \n",
       "3153   8469820      Zenon Konopka        C  BUF  1981-01-02   213.0   6' 0\"   \n",
       "\n",
       "     nationality shootsCatches  primaryNumber primaryPosition  \n",
       "0            CAN             L           24.0               L  \n",
       "1            CAN             L           30.0               G  \n",
       "2            CAN             R           44.0               R  \n",
       "3            CAN             R            5.0               D  \n",
       "4            CAN             R           21.0               C  \n",
       "...          ...           ...            ...             ...  \n",
       "3149         USA             L           31.0               G  \n",
       "3150         CZE             R            4.0               D  \n",
       "3151         SVK             L           33.0               D  \n",
       "3152         LVA             L           28.0               C  \n",
       "3153         CAN             L           24.0               C  \n",
       "\n",
       "[3154 rows x 11 columns]"
      ]
     },
     "execution_count": 14,
     "metadata": {},
     "output_type": "execute_result"
    }
   ],
   "source": [
    "df"
   ]
  },
  {
   "cell_type": "code",
   "execution_count": 15,
   "metadata": {},
   "outputs": [
    {
     "data": {
      "text/plain": [
       "playerId             0\n",
       "name                 0\n",
       "position             0\n",
       "team                 0\n",
       "birthDate          178\n",
       "weight             178\n",
       "height             178\n",
       "nationality        178\n",
       "shootsCatches      178\n",
       "primaryNumber      178\n",
       "primaryPosition    178\n",
       "dtype: int64"
      ]
     },
     "execution_count": 15,
     "metadata": {},
     "output_type": "execute_result"
    }
   ],
   "source": [
    "df.isnull().sum()"
   ]
  },
  {
   "cell_type": "code",
   "execution_count": null,
   "metadata": {},
   "outputs": [],
   "source": []
  },
  {
   "cell_type": "markdown",
   "metadata": {},
   "source": [
    "## Explain Columns\n",
    "\n",
    "Choose different types available. Explain their "
   ]
  },
  {
   "cell_type": "code",
   "execution_count": null,
   "metadata": {},
   "outputs": [],
   "source": []
  },
  {
   "cell_type": "markdown",
   "metadata": {},
   "source": [
    "## Sort Columns"
   ]
  },
  {
   "cell_type": "markdown",
   "metadata": {},
   "source": [
    "# Saving Table for Use Elsewhere"
   ]
  },
  {
   "cell_type": "markdown",
   "metadata": {},
   "source": [
    "The point of this is to place the table into an easily accessible location. For ad-hoc study simplification, I will manually run the file to poopulate my stuff vs using a more master seciton that will call upon this. Eventually, I want to use a module that will run this. Make it a brain-child module where even class objects are called upon. "
   ]
  },
  {
   "cell_type": "markdown",
   "metadata": {},
   "source": [
    "# Plotting"
   ]
  },
  {
   "cell_type": "code",
   "execution_count": null,
   "metadata": {},
   "outputs": [],
   "source": []
  },
  {
   "cell_type": "code",
   "execution_count": 14,
   "metadata": {},
   "outputs": [
    {
     "name": "stdout",
     "output_type": "stream",
     "text": [
      "dict_keys(['ALL GAMES', 'ALL PLAYERS', 'ALL SHOTS'])\n",
      "http://moneypuck.com/moneypuck/playerData/careers/gameByGame/all_teams.csv\n",
      "<class 'str'>\n"
     ]
    }
   ],
   "source": [
    "import json\n",
    "\n",
    "f = open('../dictionaries/url_dict.json')\n",
    "\n",
    "data = json.load(f)\n",
    "\n",
    "print(data.keys())\n",
    "\n",
    "print(data[\"ALL GAMES\"])\n",
    "\n",
    "url = data[\"ALL GAMES\"]\n",
    "\n",
    "print(type(url))"
   ]
  },
  {
   "cell_type": "code",
   "execution_count": 6,
   "metadata": {},
   "outputs": [],
   "source": [
    "# table = soup.find_all('table')\n",
    "\n",
    "test = (\n",
    "    pd\n",
    "    .read_csv(StringIO(all_game_data.text))\n",
    ")"
   ]
  },
  {
   "cell_type": "code",
   "execution_count": 7,
   "metadata": {},
   "outputs": [
    {
     "name": "stdout",
     "output_type": "stream",
     "text": [
      "  team  season name      gameId playerTeam opposingTeam home_or_away  \\\n",
      "0  NYR    2008  NYR  2008020001        NYR          T.B         AWAY   \n",
      "1  NYR    2008  NYR  2008020001        NYR          T.B         AWAY   \n",
      "2  NYR    2008  NYR  2008020001        NYR          T.B         AWAY   \n",
      "3  NYR    2008  NYR  2008020001        NYR          T.B         AWAY   \n",
      "4  NYR    2008  NYR  2008020001        NYR          T.B         AWAY   \n",
      "\n",
      "   gameDate    position situation  ...  unblockedShotAttemptsAgainst  \\\n",
      "0  20081004  Team Level     other  ...                           1.0   \n",
      "1  20081004  Team Level       all  ...                          31.0   \n",
      "2  20081004  Team Level      5on5  ...                          20.0   \n",
      "3  20081004  Team Level      4on5  ...                           9.0   \n",
      "4  20081004  Team Level      5on4  ...                           1.0   \n",
      "\n",
      "   scoreAdjustedUnblockedShotAttemptsAgainst  dZoneGiveawaysAgainst  \\\n",
      "0                                      1.000                    0.0   \n",
      "1                                     30.369                    5.0   \n",
      "2                                     19.369                    3.0   \n",
      "3                                      9.000                    1.0   \n",
      "4                                      1.000                    1.0   \n",
      "\n",
      "   xGoalsFromxReboundsOfShotsAgainst  xGoalsFromActualReboundsOfShotsAgainst  \\\n",
      "0                              0.017                                   0.000   \n",
      "1                              0.396                                   0.168   \n",
      "2                              0.237                                   0.168   \n",
      "3                              0.124                                   0.000   \n",
      "4                              0.019                                   0.000   \n",
      "\n",
      "   reboundxGoalsAgainst  totalShotCreditAgainst  \\\n",
      "0                 0.000                   0.037   \n",
      "1                 0.168                   2.917   \n",
      "2                 0.168                   1.862   \n",
      "3                 0.000                   0.795   \n",
      "4                 0.000                   0.224   \n",
      "\n",
      "   scoreAdjustedTotalShotCreditAgainst  \\\n",
      "0                                0.037   \n",
      "1                                2.833   \n",
      "2                                1.777   \n",
      "3                                0.795   \n",
      "4                                0.224   \n",
      "\n",
      "   scoreFlurryAdjustedTotalShotCreditAgainst  playoffGame  \n",
      "0                                      0.037            0  \n",
      "1                                      2.714            0  \n",
      "2                                      1.665            0  \n",
      "3                                      0.789            0  \n",
      "4                                      0.224            0  \n",
      "\n",
      "[5 rows x 111 columns]\n"
     ]
    }
   ],
   "source": [
    "print(test.head())"
   ]
  },
  {
   "cell_type": "code",
   "execution_count": 13,
   "metadata": {},
   "outputs": [
    {
     "name": "stdout",
     "output_type": "stream",
     "text": [
      "<class 'pandas.core.frame.DataFrame'>\n"
     ]
    }
   ],
   "source": [
    "print(type(test))"
   ]
  },
  {
   "cell_type": "code",
   "execution_count": 16,
   "metadata": {},
   "outputs": [
    {
     "data": {
      "text/plain": [
       "22677300"
      ]
     },
     "execution_count": 16,
     "metadata": {},
     "output_type": "execute_result"
    }
   ],
   "source": [
    "test.size"
   ]
  },
  {
   "cell_type": "code",
   "execution_count": 17,
   "metadata": {},
   "outputs": [
    {
     "data": {
      "text/plain": [
       "(204300, 111)"
      ]
     },
     "execution_count": 17,
     "metadata": {},
     "output_type": "execute_result"
    }
   ],
   "source": [
    "test.shape"
   ]
  },
  {
   "cell_type": "code",
   "execution_count": 20,
   "metadata": {},
   "outputs": [
    {
     "data": {
      "text/plain": [
       "['blockedShotAttemptsAgainst',\n",
       " 'blockedShotAttemptsFor',\n",
       " 'corsiPercentage',\n",
       " 'dZoneGiveawaysAgainst',\n",
       " 'dZoneGiveawaysFor',\n",
       " 'faceOffsWonAgainst',\n",
       " 'faceOffsWonFor',\n",
       " 'fenwickPercentage',\n",
       " 'flurryAdjustedxGoalsAgainst',\n",
       " 'flurryAdjustedxGoalsFor',\n",
       " 'flurryScoreVenueAdjustedxGoalsAgainst',\n",
       " 'flurryScoreVenueAdjustedxGoalsFor',\n",
       " 'freezeAgainst',\n",
       " 'freezeFor',\n",
       " 'gameDate',\n",
       " 'gameId',\n",
       " 'giveawaysAgainst',\n",
       " 'giveawaysFor',\n",
       " 'goalsAgainst',\n",
       " 'goalsFor',\n",
       " 'highDangerGoalsAgainst',\n",
       " 'highDangerGoalsFor',\n",
       " 'highDangerShotsAgainst',\n",
       " 'highDangerShotsFor',\n",
       " 'highDangerxGoalsAgainst',\n",
       " 'highDangerxGoalsFor',\n",
       " 'hitsAgainst',\n",
       " 'hitsFor',\n",
       " 'home_or_away',\n",
       " 'iceTime',\n",
       " 'lowDangerGoalsAgainst',\n",
       " 'lowDangerGoalsFor',\n",
       " 'lowDangerShotsAgainst',\n",
       " 'lowDangerShotsFor',\n",
       " 'lowDangerxGoalsAgainst',\n",
       " 'lowDangerxGoalsFor',\n",
       " 'mediumDangerGoalsAgainst',\n",
       " 'mediumDangerGoalsFor',\n",
       " 'mediumDangerShotsAgainst',\n",
       " 'mediumDangerShotsFor',\n",
       " 'mediumDangerxGoalsAgainst',\n",
       " 'mediumDangerxGoalsFor',\n",
       " 'missedShotsAgainst',\n",
       " 'missedShotsFor',\n",
       " 'name',\n",
       " 'opposingTeam',\n",
       " 'penalityMinutesAgainst',\n",
       " 'penalityMinutesFor',\n",
       " 'penaltiesAgainst',\n",
       " 'penaltiesFor',\n",
       " 'playContinuedInZoneAgainst',\n",
       " 'playContinuedInZoneFor',\n",
       " 'playContinuedOutsideZoneAgainst',\n",
       " 'playContinuedOutsideZoneFor',\n",
       " 'playStoppedAgainst',\n",
       " 'playStoppedFor',\n",
       " 'playerTeam',\n",
       " 'playoffGame',\n",
       " 'position',\n",
       " 'reboundGoalsAgainst',\n",
       " 'reboundGoalsFor',\n",
       " 'reboundsAgainst',\n",
       " 'reboundsFor',\n",
       " 'reboundxGoalsAgainst',\n",
       " 'reboundxGoalsFor',\n",
       " 'savedShotsOnGoalAgainst',\n",
       " 'savedShotsOnGoalFor',\n",
       " 'savedUnblockedShotAttemptsAgainst',\n",
       " 'savedUnblockedShotAttemptsFor',\n",
       " 'scoreAdjustedShotsAttemptsAgainst',\n",
       " 'scoreAdjustedShotsAttemptsFor',\n",
       " 'scoreAdjustedTotalShotCreditAgainst',\n",
       " 'scoreAdjustedTotalShotCreditFor',\n",
       " 'scoreAdjustedUnblockedShotAttemptsAgainst',\n",
       " 'scoreAdjustedUnblockedShotAttemptsFor',\n",
       " 'scoreFlurryAdjustedTotalShotCreditAgainst',\n",
       " 'scoreFlurryAdjustedTotalShotCreditFor',\n",
       " 'scoreVenueAdjustedxGoalsAgainst',\n",
       " 'scoreVenueAdjustedxGoalsFor',\n",
       " 'season',\n",
       " 'shotAttemptsAgainst',\n",
       " 'shotAttemptsFor',\n",
       " 'shotsOnGoalAgainst',\n",
       " 'shotsOnGoalFor',\n",
       " 'situation',\n",
       " 'takeawaysAgainst',\n",
       " 'takeawaysFor',\n",
       " 'team',\n",
       " 'totalShotCreditAgainst',\n",
       " 'totalShotCreditFor',\n",
       " 'unblockedShotAttemptsAgainst',\n",
       " 'unblockedShotAttemptsFor',\n",
       " 'xFreezeAgainst',\n",
       " 'xFreezeFor',\n",
       " 'xGoalsAgainst',\n",
       " 'xGoalsFor',\n",
       " 'xGoalsFromActualReboundsOfShotsAgainst',\n",
       " 'xGoalsFromActualReboundsOfShotsFor',\n",
       " 'xGoalsFromxReboundsOfShotsAgainst',\n",
       " 'xGoalsFromxReboundsOfShotsFor',\n",
       " 'xGoalsPercentage',\n",
       " 'xOnGoalAgainst',\n",
       " 'xOnGoalFor',\n",
       " 'xPlayContinuedInZoneAgainst',\n",
       " 'xPlayContinuedInZoneFor',\n",
       " 'xPlayContinuedOutsideZoneAgainst',\n",
       " 'xPlayContinuedOutsideZoneFor',\n",
       " 'xPlayStoppedAgainst',\n",
       " 'xPlayStoppedFor',\n",
       " 'xReboundsAgainst',\n",
       " 'xReboundsFor']"
      ]
     },
     "execution_count": 20,
     "metadata": {},
     "output_type": "execute_result"
    }
   ],
   "source": [
    "sorted(test.columns)"
   ]
  },
  {
   "cell_type": "code",
   "execution_count": null,
   "metadata": {},
   "outputs": [],
   "source": []
  }
 ],
 "metadata": {
  "kernelspec": {
   "display_name": "base_env",
   "language": "python",
   "name": "python3"
  },
  "language_info": {
   "codemirror_mode": {
    "name": "ipython",
    "version": 3
   },
   "file_extension": ".py",
   "mimetype": "text/x-python",
   "name": "python",
   "nbconvert_exporter": "python",
   "pygments_lexer": "ipython3",
   "version": "3.11.9"
  }
 },
 "nbformat": 4,
 "nbformat_minor": 2
}
