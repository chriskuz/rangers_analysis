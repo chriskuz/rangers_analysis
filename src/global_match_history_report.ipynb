{
 "nbformat": 4,
 "nbformat_minor": 2,
 "metadata": {
  "language_info": {
   "name": "python",
   "codemirror_mode": {
    "name": "ipython",
    "version": 3
   },
   "version": "3.7.6-final"
  },
  "orig_nbformat": 2,
  "file_extension": ".py",
  "mimetype": "text/x-python",
  "name": "python",
  "npconvert_exporter": "python",
  "pygments_lexer": "ipython3",
  "version": 3,
  "kernelspec": {
   "name": "python37664bitdsitestconda48790fb83d3f473c989768c98a666b4b",
   "display_name": "Python 3.7.6 64-bit ('DSI_test': conda)"
  }
 },
 "cells": [
  {
   "cell_type": "code",
   "execution_count": 1,
   "metadata": {},
   "outputs": [],
   "source": [
    "import pandas as pd\n",
    "import matplotlib.pyplot as plt\n",
    "import seaborn as sns"
   ]
  },
  {
   "cell_type": "code",
   "execution_count": 2,
   "metadata": {},
   "outputs": [],
   "source": [
    "all_game_level_data_120420 = pd.read_csv('http://moneypuck.com/moneypuck/playerData/careers/gameByGame/all_teams.csv')"
   ]
  },
  {
   "cell_type": "code",
   "execution_count": 8,
   "metadata": {},
   "outputs": [
    {
     "data": {
      "text/html": "<div>\n<style scoped>\n    .dataframe tbody tr th:only-of-type {\n        vertical-align: middle;\n    }\n\n    .dataframe tbody tr th {\n        vertical-align: top;\n    }\n\n    .dataframe thead th {\n        text-align: right;\n    }\n</style>\n<table border=\"1\" class=\"dataframe\">\n  <thead>\n    <tr style=\"text-align: right;\">\n      <th></th>\n      <th>team</th>\n      <th>season</th>\n      <th>name</th>\n      <th>gameId</th>\n      <th>playerTeam</th>\n      <th>opposingTeam</th>\n      <th>home_or_away</th>\n      <th>gameDate</th>\n      <th>position</th>\n      <th>situation</th>\n      <th>...</th>\n      <th>unblockedShotAttemptsAgainst</th>\n      <th>scoreAdjustedUnblockedShotAttemptsAgainst</th>\n      <th>dZoneGiveawaysAgainst</th>\n      <th>xGoalsFromxReboundsOfShotsAgainst</th>\n      <th>xGoalsFromActualReboundsOfShotsAgainst</th>\n      <th>reboundxGoalsAgainst</th>\n      <th>totalShotCreditAgainst</th>\n      <th>scoreAdjustedTotalShotCreditAgainst</th>\n      <th>scoreFlurryAdjustedTotalShotCreditAgainst</th>\n      <th>playoffGame</th>\n    </tr>\n  </thead>\n  <tbody>\n    <tr>\n      <th>0</th>\n      <td>NYR</td>\n      <td>2008</td>\n      <td>NYR</td>\n      <td>2008020001</td>\n      <td>NYR</td>\n      <td>T.B</td>\n      <td>AWAY</td>\n      <td>20081004</td>\n      <td>Team Level</td>\n      <td>other</td>\n      <td>...</td>\n      <td>1.0</td>\n      <td>1.000</td>\n      <td>0.0</td>\n      <td>0.017</td>\n      <td>0.000</td>\n      <td>0.000</td>\n      <td>0.037</td>\n      <td>0.037</td>\n      <td>0.037</td>\n      <td>0</td>\n    </tr>\n    <tr>\n      <th>1</th>\n      <td>NYR</td>\n      <td>2008</td>\n      <td>NYR</td>\n      <td>2008020001</td>\n      <td>NYR</td>\n      <td>T.B</td>\n      <td>AWAY</td>\n      <td>20081004</td>\n      <td>Team Level</td>\n      <td>all</td>\n      <td>...</td>\n      <td>31.0</td>\n      <td>30.369</td>\n      <td>5.0</td>\n      <td>0.396</td>\n      <td>0.168</td>\n      <td>0.168</td>\n      <td>2.917</td>\n      <td>2.833</td>\n      <td>2.714</td>\n      <td>0</td>\n    </tr>\n    <tr>\n      <th>2</th>\n      <td>NYR</td>\n      <td>2008</td>\n      <td>NYR</td>\n      <td>2008020001</td>\n      <td>NYR</td>\n      <td>T.B</td>\n      <td>AWAY</td>\n      <td>20081004</td>\n      <td>Team Level</td>\n      <td>5on5</td>\n      <td>...</td>\n      <td>20.0</td>\n      <td>19.369</td>\n      <td>3.0</td>\n      <td>0.237</td>\n      <td>0.168</td>\n      <td>0.168</td>\n      <td>1.862</td>\n      <td>1.777</td>\n      <td>1.665</td>\n      <td>0</td>\n    </tr>\n    <tr>\n      <th>3</th>\n      <td>NYR</td>\n      <td>2008</td>\n      <td>NYR</td>\n      <td>2008020001</td>\n      <td>NYR</td>\n      <td>T.B</td>\n      <td>AWAY</td>\n      <td>20081004</td>\n      <td>Team Level</td>\n      <td>4on5</td>\n      <td>...</td>\n      <td>9.0</td>\n      <td>9.000</td>\n      <td>1.0</td>\n      <td>0.124</td>\n      <td>0.000</td>\n      <td>0.000</td>\n      <td>0.795</td>\n      <td>0.795</td>\n      <td>0.789</td>\n      <td>0</td>\n    </tr>\n    <tr>\n      <th>4</th>\n      <td>NYR</td>\n      <td>2008</td>\n      <td>NYR</td>\n      <td>2008020001</td>\n      <td>NYR</td>\n      <td>T.B</td>\n      <td>AWAY</td>\n      <td>20081004</td>\n      <td>Team Level</td>\n      <td>5on4</td>\n      <td>...</td>\n      <td>1.0</td>\n      <td>1.000</td>\n      <td>1.0</td>\n      <td>0.019</td>\n      <td>0.000</td>\n      <td>0.000</td>\n      <td>0.224</td>\n      <td>0.224</td>\n      <td>0.224</td>\n      <td>0</td>\n    </tr>\n  </tbody>\n</table>\n<p>5 rows × 111 columns</p>\n</div>",
      "text/plain": "  team  season name      gameId playerTeam opposingTeam home_or_away  \\\n0  NYR    2008  NYR  2008020001        NYR          T.B         AWAY   \n1  NYR    2008  NYR  2008020001        NYR          T.B         AWAY   \n2  NYR    2008  NYR  2008020001        NYR          T.B         AWAY   \n3  NYR    2008  NYR  2008020001        NYR          T.B         AWAY   \n4  NYR    2008  NYR  2008020001        NYR          T.B         AWAY   \n\n   gameDate    position situation  ...  unblockedShotAttemptsAgainst  \\\n0  20081004  Team Level     other  ...                           1.0   \n1  20081004  Team Level       all  ...                          31.0   \n2  20081004  Team Level      5on5  ...                          20.0   \n3  20081004  Team Level      4on5  ...                           9.0   \n4  20081004  Team Level      5on4  ...                           1.0   \n\n   scoreAdjustedUnblockedShotAttemptsAgainst  dZoneGiveawaysAgainst  \\\n0                                      1.000                    0.0   \n1                                     30.369                    5.0   \n2                                     19.369                    3.0   \n3                                      9.000                    1.0   \n4                                      1.000                    1.0   \n\n   xGoalsFromxReboundsOfShotsAgainst  xGoalsFromActualReboundsOfShotsAgainst  \\\n0                              0.017                                   0.000   \n1                              0.396                                   0.168   \n2                              0.237                                   0.168   \n3                              0.124                                   0.000   \n4                              0.019                                   0.000   \n\n   reboundxGoalsAgainst  totalShotCreditAgainst  \\\n0                 0.000                   0.037   \n1                 0.168                   2.917   \n2                 0.168                   1.862   \n3                 0.000                   0.795   \n4                 0.000                   0.224   \n\n   scoreAdjustedTotalShotCreditAgainst  \\\n0                                0.037   \n1                                2.833   \n2                                1.777   \n3                                0.795   \n4                                0.224   \n\n   scoreFlurryAdjustedTotalShotCreditAgainst  playoffGame  \n0                                      0.037            0  \n1                                      2.714            0  \n2                                      1.665            0  \n3                                      0.789            0  \n4                                      0.224            0  \n\n[5 rows x 111 columns]"
     },
     "execution_count": 8,
     "metadata": {},
     "output_type": "execute_result"
    }
   ],
   "source": [
    "all_game_level_data_120420.head()"
   ]
  },
  {
   "cell_type": "code",
   "execution_count": null,
   "metadata": {},
   "outputs": [],
   "source": []
  }
 ]
}